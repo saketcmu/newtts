{
  "nbformat": 4,
  "nbformat_minor": 0,
  "metadata": {
    "colab": {
      "name": "Tacotron_new.ipynb",
      "provenance": []
    },
    "kernelspec": {
      "name": "python3",
      "display_name": "Python 3"
    },
    "accelerator": "GPU"
  },
  "cells": [
    {
      "cell_type": "code",
      "metadata": {
        "id": "Bj5HLIYU7nRu",
        "colab_type": "code",
        "outputId": "5a36e3fa-45d1-4948-90a1-1ff567666f11",
        "colab": {
          "base_uri": "https://localhost:8080/",
          "height": 204
        }
      },
      "source": [
        "#L J Dataset\n",
        "!wget https://data.keithito.com/data/speech/LJSpeech-1.1.tar.bz2"
      ],
      "execution_count": 0,
      "outputs": [
        {
          "output_type": "stream",
          "text": [
            "--2019-12-15 02:13:48--  https://data.keithito.com/data/speech/LJSpeech-1.1.tar.bz2\n",
            "Resolving data.keithito.com (data.keithito.com)... 174.138.79.61\n",
            "Connecting to data.keithito.com (data.keithito.com)|174.138.79.61|:443... connected.\n",
            "HTTP request sent, awaiting response... 200 OK\n",
            "Length: 2748572632 (2.6G) [application/octet-stream]\n",
            "Saving to: ‘LJSpeech-1.1.tar.bz2’\n",
            "\n",
            "LJSpeech-1.1.tar.bz 100%[===================>]   2.56G  16.9MB/s    in 2m 38s  \n",
            "\n",
            "2019-12-15 02:16:32 (16.6 MB/s) - ‘LJSpeech-1.1.tar.bz2’ saved [2748572632/2748572632]\n",
            "\n"
          ],
          "name": "stdout"
        }
      ]
    },
    {
      "cell_type": "code",
      "metadata": {
        "id": "IyTIcBOd7_ep",
        "colab_type": "code",
        "colab": {}
      },
      "source": [
        "!tar -xvf /content/LJSpeech-1.1.tar.bz2"
      ],
      "execution_count": 0,
      "outputs": []
    },
    {
      "cell_type": "code",
      "metadata": {
        "id": "TaaUo3kmSr9D",
        "colab_type": "code",
        "outputId": "86beb877-f5a0-44da-badc-7dc791c71771",
        "colab": {
          "base_uri": "https://localhost:8080/",
          "height": 136
        }
      },
      "source": [
        "!git clone https://github.com/ttaoREtw/Tacotron-pytorch.git"
      ],
      "execution_count": 0,
      "outputs": [
        {
          "output_type": "stream",
          "text": [
            "Cloning into 'Tacotron-pytorch'...\n",
            "remote: Enumerating objects: 3, done.\u001b[K\n",
            "remote: Counting objects: 100% (3/3), done.\u001b[K\n",
            "remote: Compressing objects: 100% (3/3), done.\u001b[K\n",
            "remote: Total 100 (delta 0), reused 0 (delta 0), pack-reused 97\u001b[K\n",
            "Receiving objects: 100% (100/100), 67.77 MiB | 11.54 MiB/s, done.\n",
            "Resolving deltas: 100% (42/42), done.\n"
          ],
          "name": "stdout"
        }
      ]
    },
    {
      "cell_type": "code",
      "metadata": {
        "id": "PTEGZSCYTVu4",
        "colab_type": "code",
        "outputId": "f33a988e-7e71-48eb-82c2-fe55727b218c",
        "colab": {
          "base_uri": "https://localhost:8080/",
          "height": 187
        }
      },
      "source": [
        "#Get Checkpoint \n",
        "!wget https://drive.google.com/uc?authuser=2&id=1q8xLo9zyyclIDgYk3V2mczofnQwqT6pk&export=download"
      ],
      "execution_count": 0,
      "outputs": [
        {
          "output_type": "stream",
          "text": [
            "--2019-12-15 01:24:29--  https://drive.google.com/uc?authuser=2\n",
            "Resolving drive.google.com (drive.google.com)... 64.233.170.102, 64.233.170.139, 64.233.170.101, ...\n",
            "Connecting to drive.google.com (drive.google.com)|64.233.170.102|:443... connected.\n",
            "HTTP request sent, awaiting response... 302 Moved Temporarily\n",
            "Location: https://drive.google.com/uc [following]\n",
            "--2019-12-15 01:24:29--  https://drive.google.com/uc\n",
            "Reusing existing connection to drive.google.com:443.\n",
            "HTTP request sent, awaiting response... 400 Bad Request\n",
            "2019-12-15 01:24:29 ERROR 400: Bad Request.\n",
            "\n"
          ],
          "name": "stdout"
        }
      ]
    },
    {
      "cell_type": "code",
      "metadata": {
        "id": "3XcsFtHVdMcB",
        "colab_type": "code",
        "colab": {}
      },
      "source": [
        "!rm -r LJSpeech-1.1new"
      ],
      "execution_count": 0,
      "outputs": []
    },
    {
      "cell_type": "code",
      "metadata": {
        "id": "US8zdeyKR25r",
        "colab_type": "code",
        "colab": {}
      },
      "source": [
        "!mv  /content/LJSpeech-1.1 /content/Tacotron-pytorch/"
      ],
      "execution_count": 0,
      "outputs": []
    },
    {
      "cell_type": "code",
      "metadata": {
        "id": "ArNNtlrERilA",
        "colab_type": "code",
        "outputId": "430fa66d-cb75-41d5-e17f-a5c8d432bf52",
        "colab": {
          "base_uri": "https://localhost:8080/",
          "height": 34
        }
      },
      "source": [
        "cd Tacotron-pytorch/"
      ],
      "execution_count": 0,
      "outputs": [
        {
          "output_type": "stream",
          "text": [
            "/content/Tacotron-pytorch\n"
          ],
          "name": "stdout"
        }
      ]
    },
    {
      "cell_type": "code",
      "metadata": {
        "id": "YpS1lqF5arYU",
        "colab_type": "code",
        "outputId": "e76291ff-a5c6-4f6e-9015-6c4c00143d4b",
        "colab": {
          "base_uri": "https://localhost:8080/",
          "height": 34
        }
      },
      "source": [
        "cd /content/Tacotron-pytorch/LJSpeech-1.1/wavs"
      ],
      "execution_count": 0,
      "outputs": [
        {
          "output_type": "stream",
          "text": [
            "/content/Tacotron-pytorch/LJSpeech-1.1/wavs\n"
          ],
          "name": "stdout"
        }
      ]
    },
    {
      "cell_type": "code",
      "metadata": {
        "id": "hH1Ir9PXfDb7",
        "colab_type": "code",
        "outputId": "230d2641-b2ce-4e6d-9619-b96ad75de783",
        "colab": {
          "base_uri": "https://localhost:8080/",
          "height": 34
        }
      },
      "source": [
        "str(1).zfill(2)"
      ],
      "execution_count": 0,
      "outputs": [
        {
          "output_type": "execute_result",
          "data": {
            "text/plain": [
              "'01'"
            ]
          },
          "metadata": {
            "tags": []
          },
          "execution_count": 11
        }
      ]
    },
    {
      "cell_type": "code",
      "metadata": {
        "id": "PQbk_gig8p3R",
        "colab_type": "code",
        "outputId": "635bb3e7-b62e-4803-b5cd-b1a9063a2a55",
        "colab": {
          "base_uri": "https://localhost:8080/",
          "height": 34
        }
      },
      "source": [
        "cd .."
      ],
      "execution_count": 0,
      "outputs": [
        {
          "output_type": "stream",
          "text": [
            "/content\n"
          ],
          "name": "stdout"
        }
      ]
    },
    {
      "cell_type": "code",
      "metadata": {
        "id": "DaVBbZjNgdPW",
        "colab_type": "code",
        "outputId": "ff639bf4-3764-4807-fbce-c55d4f4a3260",
        "colab": {
          "base_uri": "https://localhost:8080/",
          "height": 323
        }
      },
      "source": [
        "!unzip Archive.zip"
      ],
      "execution_count": 0,
      "outputs": [
        {
          "output_type": "stream",
          "text": [
            "Archive:  Archive.zip\n",
            "  inflating: LJ001-0011.wav          \n",
            "   creating: __MACOSX/\n",
            "  inflating: __MACOSX/._LJ001-0011.wav  \n",
            "  inflating: LJ001-0005.wav          \n",
            "  inflating: __MACOSX/._LJ001-0005.wav  \n",
            "  inflating: LJ001-0010.wav          \n",
            "  inflating: __MACOSX/._LJ001-0010.wav  \n",
            "  inflating: LJ001-0006.wav          \n",
            "  inflating: __MACOSX/._LJ001-0006.wav  \n",
            "  inflating: LJ001-0013.wav          \n",
            "  inflating: __MACOSX/._LJ001-0013.wav  \n",
            "  inflating: LJ001-0007.wav          \n",
            "  inflating: __MACOSX/._LJ001-0007.wav  \n",
            "  inflating: LJ001-0009.wav          \n",
            "  inflating: __MACOSX/._LJ001-0009.wav  \n",
            "  inflating: LJ001-0008.wav          \n",
            "  inflating: __MACOSX/._LJ001-0008.wav  \n"
          ],
          "name": "stdout"
        }
      ]
    },
    {
      "cell_type": "code",
      "metadata": {
        "id": "xKZD5mF9emyy",
        "colab_type": "code",
        "colab": {}
      },
      "source": [
        "for i in range(1,187):\n",
        "  \n",
        "  index=str(i).zfill(4)\n",
        "  filename=\"LJ001-\"+index+\".wav\"\n",
        "  !cp -r  filename LJSpeech-1.1new"
      ],
      "execution_count": 0,
      "outputs": []
    },
    {
      "cell_type": "code",
      "metadata": {
        "id": "S1Vc0mjhg6ys",
        "colab_type": "code",
        "outputId": "322a3e32-f3c8-46ce-b92a-5f35c7fd2b86",
        "colab": {
          "base_uri": "https://localhost:8080/",
          "height": 51
        }
      },
      "source": [
        "import os\n",
        "count=0\n",
        "for filename in os.listdir(\"/content/Tacotron-pytorch/LJSpeech-1.1/wavs\"):\n",
        "    # if filename.endswith(\".wav\"):\n",
        "    #   if filename in listdir:\n",
        "        print(filename)\n",
        "        filename =str(filename)\n",
        "        !cp -r  filename LJSpeech-1.1new\n",
        "\n",
        "        break"
      ],
      "execution_count": 0,
      "outputs": [
        {
          "output_type": "stream",
          "text": [
            "LJ009-0188.wav\n",
            "cp: cannot stat 'filename': No such file or directory\n"
          ],
          "name": "stdout"
        }
      ]
    },
    {
      "cell_type": "code",
      "metadata": {
        "id": "vvzX9QXNlote",
        "colab_type": "code",
        "outputId": "2bafb7b2-c905-4d59-903d-1270ef1dd0dc",
        "colab": {
          "base_uri": "https://localhost:8080/",
          "height": 34
        }
      },
      "source": [
        "!cat wavs  "
      ],
      "execution_count": 0,
      "outputs": [
        {
          "output_type": "stream",
          "text": [
            "cat: wavs: Is a directory\n"
          ],
          "name": "stdout"
        }
      ]
    },
    {
      "cell_type": "code",
      "metadata": {
        "id": "VWcYuPrzaHqs",
        "colab_type": "code",
        "colab": {}
      },
      "source": [
        "#!find . -maxdepth 1 -type f |head -1000|xargs cp -t \"LJSpeech-1.1new\""
      ],
      "execution_count": 0,
      "outputs": []
    },
    {
      "cell_type": "code",
      "metadata": {
        "id": "A9KYHElk-bKu",
        "colab_type": "code",
        "outputId": "fcdfc546-d98f-4e9a-fc73-8f8e7eb5dbbe",
        "colab": {
          "base_uri": "https://localhost:8080/",
          "height": 34
        }
      },
      "source": [
        "cd Tacotron-pytorch/"
      ],
      "execution_count": 0,
      "outputs": [
        {
          "output_type": "stream",
          "text": [
            "/content/Tacotron-pytorch\n"
          ],
          "name": "stdout"
        }
      ]
    },
    {
      "cell_type": "code",
      "metadata": {
        "id": "0lvURb9L-gpG",
        "colab_type": "code",
        "outputId": "3d3d582b-a0b7-4577-f02a-b70c8d12d003",
        "colab": {
          "base_uri": "https://localhost:8080/",
          "height": 139
        }
      },
      "source": [
        "!pip install soundfile"
      ],
      "execution_count": 0,
      "outputs": [
        {
          "output_type": "stream",
          "text": [
            "Collecting soundfile\n",
            "  Downloading https://files.pythonhosted.org/packages/eb/f2/3cbbbf3b96fb9fa91582c438b574cff3f45b29c772f94c400e2c99ef5db9/SoundFile-0.10.3.post1-py2.py3-none-any.whl\n",
            "Requirement already satisfied: cffi>=1.0 in /usr/local/lib/python3.6/dist-packages (from soundfile) (1.13.2)\n",
            "Requirement already satisfied: pycparser in /usr/local/lib/python3.6/dist-packages (from cffi>=1.0->soundfile) (2.19)\n",
            "Installing collected packages: soundfile\n",
            "Successfully installed soundfile-0.10.3.post1\n"
          ],
          "name": "stdout"
        }
      ]
    },
    {
      "cell_type": "code",
      "metadata": {
        "id": "G5CVI_cM_nZ9",
        "colab_type": "code",
        "colab": {}
      },
      "source": [
        "\n",
        "\n",
        "\n",
        "def preprocess(args):\n",
        "    with open(args.config) as f:\n",
        "        config = yaml.load(f)\n",
        "\n",
        "    # Make directory if not exist\n",
        "    os.makedirs(args.output_dir, exist_ok=True)\n",
        "    print('')\n",
        "    print('[INFO] Root directory:', args.data_dir)\n",
        "\n",
        "    AP = AudioProcessor(**config['audio'])\n",
        "    executor = ProcessPoolExecutor(max_workers=args.n_jobs)\n",
        "    fid = []\n",
        "    text = []\n",
        "    wav = []\n",
        "    futures = []\n",
        "    with open(args.old_meta, encoding='utf-8') as f:\n",
        "        for line in f:\n",
        "            parts = line.strip().split('|')\n",
        "            fpath = os.path.join(args.data_dir, '%s.wav' % parts[0])\n",
        "            text = parts[2]\n",
        "            job = executor.submit(partial(process_utterance, fpath, text, args.output_dir, AP))\n",
        "            futures += [job]\n",
        "\n",
        "    print('[INFO] Preprocessing', end=' => ')\n",
        "    print(len(futures), 'audio files found')\n",
        "    results = [future.result() for future in tqdm(futures)]\n",
        "    fpath_meta = os.path.join(args.output_dir, 'ljspeech_meta.txt')\n",
        "    with open(fpath_meta, 'w') as f:\n",
        "        for x in results:\n",
        "            s = map(lambda x: str(x), x)\n",
        "            f.write('|'.join(s) + '\\n')\n",
        "\n",
        "\n",
        "def process_utterance(fpath, text, output_dir,\n",
        "        audio_processor, store_mel=True, store_linear=True):\n",
        "    wav = audio_processor.load_wav(fpath)\n",
        "    mel = audio_processor.melspectrogram(wav).astype(np.float32).T\n",
        "    linear = audio_processor.spectrogram(wav).astype(np.float32).T\n",
        "    n_frames = linear.shape[0]\n",
        "    fid = fpath.split('/')[-1].split('.')[0]\n",
        "    fpath_mel = fid + '-mel.npy'\n",
        "    fpath_linear = fid + '-linear.npy'\n",
        "    if store_mel:\n",
        "        np.save(os.path.join(output_dir, fpath_mel), mel, allow_pickle=False)\n",
        "    if store_linear:\n",
        "        np.save(os.path.join(output_dir, fpath_linear), linear, allow_pickle=False)\n",
        "    return fpath_mel, fpath_linear, n_frames, text\n",
        "\n",
        "\n"
      ],
      "execution_count": 0,
      "outputs": []
    },
    {
      "cell_type": "code",
      "metadata": {
        "id": "Kn_iujp9BFyz",
        "colab_type": "code",
        "colab": {}
      },
      "source": [
        "import os\n",
        "import numpy as np\n",
        "import argparse\n",
        "import yaml\n",
        "from tqdm import tqdm\n",
        "\n",
        "import sys\n",
        "# To import from src\n",
        "sys.path.insert(0, '.')\n",
        "\n",
        "from src.utils import AudioProcessor\n",
        "from concurrent.futures import ProcessPoolExecutor\n",
        "from functools import partial\n",
        "from multiprocessing import cpu_count\n",
        "from pathlib import Path"
      ],
      "execution_count": 0,
      "outputs": []
    },
    {
      "cell_type": "code",
      "metadata": {
        "id": "dek9UlneAChv",
        "colab_type": "code",
        "outputId": "48f3b072-5a9d-4916-f2aa-30fd03669467",
        "colab": {
          "base_uri": "https://localhost:8080/",
          "height": 164
        }
      },
      "source": [
        "wav = AudioProcessor.load_wav(path=\"/content/wavs/LJ001-0005.wav\")"
      ],
      "execution_count": 0,
      "outputs": [
        {
          "output_type": "error",
          "ename": "TypeError",
          "evalue": "ignored",
          "traceback": [
            "\u001b[0;31m---------------------------------------------------------------------------\u001b[0m",
            "\u001b[0;31mTypeError\u001b[0m                                 Traceback (most recent call last)",
            "\u001b[0;32m<ipython-input-82-f00d2936e31a>\u001b[0m in \u001b[0;36m<module>\u001b[0;34m()\u001b[0m\n\u001b[0;32m----> 1\u001b[0;31m \u001b[0mwav\u001b[0m \u001b[0;34m=\u001b[0m \u001b[0mAudioProcessor\u001b[0m\u001b[0;34m.\u001b[0m\u001b[0mload_wav\u001b[0m\u001b[0;34m(\u001b[0m\u001b[0mpath\u001b[0m\u001b[0;34m=\u001b[0m\u001b[0;34m\"/content/wavs/LJ001-0005.wav\"\u001b[0m\u001b[0;34m)\u001b[0m\u001b[0;34m\u001b[0m\u001b[0;34m\u001b[0m\u001b[0m\n\u001b[0m",
            "\u001b[0;31mTypeError\u001b[0m: load_wav() missing 1 required positional argument: 'self'"
          ]
        }
      ]
    },
    {
      "cell_type": "code",
      "metadata": {
        "id": "fc8M-tSVAEnH",
        "colab_type": "code",
        "colab": {}
      },
      "source": [
        "mel = audio_processor.melspectrogram(wav).astype(np.float32).T"
      ],
      "execution_count": 0,
      "outputs": []
    },
    {
      "cell_type": "code",
      "metadata": {
        "id": "nOxaCpGY_qFN",
        "colab_type": "code",
        "colab": {}
      },
      "source": [
        "\n",
        "if __name__ == '__main__':\n",
        "    parser = argparse.ArgumentParser(description='Preprocess ljspeech dataset')\n",
        "    parser.add_argument('--data-dir', type=str, help='Directory to raw dataset')\n",
        "    parser.add_argument('--output-dir', default='training_data/', type=str, help='Directory to store output', required=False)\n",
        "    parser.add_argument('--old-meta', type=str, help='previous old meta file', required=True)\n",
        "    parser.add_argument('--n-jobs', default=cpu_count(), type=int, help='Number of jobs used for feature extraction', required=False)\n",
        "    parser.add_argument('--config', type=str, help='configure file', required=True)\n",
        "    args = parser.parse_args()\n",
        "    preprocess(args)"
      ],
      "execution_count": 0,
      "outputs": []
    },
    {
      "cell_type": "code",
      "metadata": {
        "id": "hkFj76CaKQbL",
        "colab_type": "code",
        "outputId": "4377d3c0-b646-4104-b513-728a21d29ca5",
        "colab": {
          "base_uri": "https://localhost:8080/",
          "height": 153
        }
      },
      "source": [
        "!python /content/Tacotron-pytorch/data/preprocess.py  --data-dir \"content/wavs\" --output-dir \"content/training\" --old-meta \"/content/sample_metadata.csv\" --config \"config/config.yaml\""
      ],
      "execution_count": 0,
      "outputs": [
        {
          "output_type": "stream",
          "text": [
            "\n",
            "[INFO] Root directory: content/wavs\n",
            "Traceback (most recent call last):\n",
            "  File \"/content/Tacotron-pytorch/data/preprocess.py\", line 76, in <module>\n",
            "    preprocess(args)\n",
            "  File \"/content/Tacotron-pytorch/data/preprocess.py\", line 37, in preprocess\n",
            "    text = parts[2]\n",
            "IndexError: list index out of range\n"
          ],
          "name": "stdout"
        }
      ]
    },
    {
      "cell_type": "code",
      "metadata": {
        "id": "xCjvBuyyT4YI",
        "colab_type": "code",
        "outputId": "b83ef84b-1543-48a7-e2a3-5f77690a3910",
        "colab": {
          "base_uri": "https://localhost:8080/",
          "height": 34
        }
      },
      "source": [
        "cd Tacotron-pytorch/"
      ],
      "execution_count": 0,
      "outputs": [
        {
          "output_type": "stream",
          "text": [
            "/content/Tacotron-pytorch\n"
          ],
          "name": "stdout"
        }
      ]
    },
    {
      "cell_type": "code",
      "metadata": {
        "id": "4qokBgHvUIgM",
        "colab_type": "code",
        "outputId": "9507a920-1c06-4d7b-bb44-3949f29664d1",
        "colab": {
          "base_uri": "https://localhost:8080/",
          "height": 119
        }
      },
      "source": [
        "!pip install soundfile"
      ],
      "execution_count": 0,
      "outputs": [
        {
          "output_type": "stream",
          "text": [
            "Collecting soundfile\n",
            "  Downloading https://files.pythonhosted.org/packages/eb/f2/3cbbbf3b96fb9fa91582c438b574cff3f45b29c772f94c400e2c99ef5db9/SoundFile-0.10.3.post1-py2.py3-none-any.whl\n",
            "Requirement already satisfied: cffi>=1.0 in /usr/local/lib/python3.6/dist-packages (from soundfile) (1.13.2)\n",
            "Requirement already satisfied: pycparser in /usr/local/lib/python3.6/dist-packages (from cffi>=1.0->soundfile) (2.19)\n",
            "Installing collected packages: soundfile\n",
            "Successfully installed soundfile-0.10.3.post1\n"
          ],
          "name": "stdout"
        }
      ]
    },
    {
      "cell_type": "code",
      "metadata": {
        "id": "Rzr9_l0GVjz7",
        "colab_type": "code",
        "outputId": "7fd9f9b9-1ef1-42d4-ba75-0860d80f7f35",
        "colab": {
          "base_uri": "https://localhost:8080/",
          "height": 170
        }
      },
      "source": [
        "!pip install tensorboardX"
      ],
      "execution_count": 0,
      "outputs": [
        {
          "output_type": "stream",
          "text": [
            "Collecting tensorboardX\n",
            "\u001b[?25l  Downloading https://files.pythonhosted.org/packages/a6/5c/e918d9f190baab8d55bad52840d8091dd5114cc99f03eaa6d72d404503cc/tensorboardX-1.9-py2.py3-none-any.whl (190kB)\n",
            "\r\u001b[K     |█▊                              | 10kB 18.5MB/s eta 0:00:01\r\u001b[K     |███▍                            | 20kB 1.8MB/s eta 0:00:01\r\u001b[K     |█████▏                          | 30kB 2.6MB/s eta 0:00:01\r\u001b[K     |██████▉                         | 40kB 1.7MB/s eta 0:00:01\r\u001b[K     |████████▋                       | 51kB 2.1MB/s eta 0:00:01\r\u001b[K     |██████████▎                     | 61kB 2.5MB/s eta 0:00:01\r\u001b[K     |████████████                    | 71kB 2.9MB/s eta 0:00:01\r\u001b[K     |█████████████▊                  | 81kB 3.3MB/s eta 0:00:01\r\u001b[K     |███████████████▌                | 92kB 3.7MB/s eta 0:00:01\r\u001b[K     |█████████████████▏              | 102kB 2.8MB/s eta 0:00:01\r\u001b[K     |███████████████████             | 112kB 2.8MB/s eta 0:00:01\r\u001b[K     |████████████████████▋           | 122kB 2.8MB/s eta 0:00:01\r\u001b[K     |██████████████████████▍         | 133kB 2.8MB/s eta 0:00:01\r\u001b[K     |████████████████████████        | 143kB 2.8MB/s eta 0:00:01\r\u001b[K     |█████████████████████████▊      | 153kB 2.8MB/s eta 0:00:01\r\u001b[K     |███████████████████████████▌    | 163kB 2.8MB/s eta 0:00:01\r\u001b[K     |█████████████████████████████▏  | 174kB 2.8MB/s eta 0:00:01\r\u001b[K     |███████████████████████████████ | 184kB 2.8MB/s eta 0:00:01\r\u001b[K     |████████████████████████████████| 194kB 2.8MB/s \n",
            "\u001b[?25hRequirement already satisfied: six in /usr/local/lib/python3.6/dist-packages (from tensorboardX) (1.12.0)\n",
            "Requirement already satisfied: protobuf>=3.8.0 in /usr/local/lib/python3.6/dist-packages (from tensorboardX) (3.10.0)\n",
            "Requirement already satisfied: numpy in /usr/local/lib/python3.6/dist-packages (from tensorboardX) (1.17.4)\n",
            "Requirement already satisfied: setuptools in /usr/local/lib/python3.6/dist-packages (from protobuf>=3.8.0->tensorboardX) (42.0.2)\n",
            "Installing collected packages: tensorboardX\n",
            "Successfully installed tensorboardX-1.9\n"
          ],
          "name": "stdout"
        }
      ]
    },
    {
      "cell_type": "code",
      "metadata": {
        "id": "3V7QvwZeVxr_",
        "colab_type": "code",
        "outputId": "6b24cca2-c5d9-4f41-b68e-20eb75441e75",
        "colab": {
          "base_uri": "https://localhost:8080/",
          "height": 102
        }
      },
      "source": [
        "!pip install unidecode"
      ],
      "execution_count": 0,
      "outputs": [
        {
          "output_type": "stream",
          "text": [
            "Collecting unidecode\n",
            "\u001b[?25l  Downloading https://files.pythonhosted.org/packages/d0/42/d9edfed04228bacea2d824904cae367ee9efd05e6cce7ceaaedd0b0ad964/Unidecode-1.1.1-py2.py3-none-any.whl (238kB)\n",
            "\r\u001b[K     |█▍                              | 10kB 18.3MB/s eta 0:00:01\r\u001b[K     |██▊                             | 20kB 1.8MB/s eta 0:00:01\r\u001b[K     |████▏                           | 30kB 2.6MB/s eta 0:00:01\r\u001b[K     |█████▌                          | 40kB 1.7MB/s eta 0:00:01\r\u001b[K     |██████▉                         | 51kB 2.1MB/s eta 0:00:01\r\u001b[K     |████████▎                       | 61kB 2.5MB/s eta 0:00:01\r\u001b[K     |█████████▋                      | 71kB 2.4MB/s eta 0:00:01\r\u001b[K     |███████████                     | 81kB 2.7MB/s eta 0:00:01\r\u001b[K     |████████████▍                   | 92kB 3.0MB/s eta 0:00:01\r\u001b[K     |█████████████▊                  | 102kB 2.8MB/s eta 0:00:01\r\u001b[K     |███████████████▏                | 112kB 2.8MB/s eta 0:00:01\r\u001b[K     |████████████████▌               | 122kB 2.8MB/s eta 0:00:01\r\u001b[K     |█████████████████▉              | 133kB 2.8MB/s eta 0:00:01\r\u001b[K     |███████████████████▎            | 143kB 2.8MB/s eta 0:00:01\r\u001b[K     |████████████████████▋           | 153kB 2.8MB/s eta 0:00:01\r\u001b[K     |██████████████████████          | 163kB 2.8MB/s eta 0:00:01\r\u001b[K     |███████████████████████▍        | 174kB 2.8MB/s eta 0:00:01\r\u001b[K     |████████████████████████▊       | 184kB 2.8MB/s eta 0:00:01\r\u001b[K     |██████████████████████████▏     | 194kB 2.8MB/s eta 0:00:01\r\u001b[K     |███████████████████████████▌    | 204kB 2.8MB/s eta 0:00:01\r\u001b[K     |████████████████████████████▉   | 215kB 2.8MB/s eta 0:00:01\r\u001b[K     |██████████████████████████████▎ | 225kB 2.8MB/s eta 0:00:01\r\u001b[K     |███████████████████████████████▋| 235kB 2.8MB/s eta 0:00:01\r\u001b[K     |████████████████████████████████| 245kB 2.8MB/s \n",
            "\u001b[?25hInstalling collected packages: unidecode\n",
            "Successfully installed unidecode-1.1.1\n"
          ],
          "name": "stdout"
        }
      ]
    },
    {
      "cell_type": "code",
      "metadata": {
        "id": "STlSDWrzT7He",
        "colab_type": "code",
        "colab": {}
      },
      "source": [
        "import librosa         # Process audio\n",
        "import matplotlib      # Plot spectrogram and attention\n",
        "import numpy           # Fundamental package for scientific computing\n",
        "import scipy           # Use signal.lfilter\n",
        "import yaml            # Config parser\n",
        "import soundfile       # Save audio\n",
        "import tensorboardX    # Tensorboard for pytorch\n",
        "import tqdm            # Verbosity\n",
        "import torch  "
      ],
      "execution_count": 0,
      "outputs": []
    },
    {
      "cell_type": "code",
      "metadata": {
        "id": "Xi3UiOT7Sz_1",
        "colab_type": "code",
        "outputId": "b22aab74-275a-447a-8ccd-6bb01d7508a8",
        "colab": {
          "base_uri": "https://localhost:8080/",
          "height": 187
        }
      },
      "source": [
        "!python generate_speech.py --text \"I was able to produce sound output using custom software\" --checkpoint-path \"/content/checkpoint_step138000 (1).pth\"  --config config/config.yaml"
      ],
      "execution_count": 0,
      "outputs": [
        {
          "output_type": "stream",
          "text": [
            "Traceback (most recent call last):\n",
            "  File \"generate_speech.py\", line 41, in <module>\n",
            "    generate_speech(args)\n",
            "  File \"generate_speech.py\", line 11, in generate_speech\n",
            "    model = load_ckpt(config, args.checkpoint_path)\n",
            "  File \"generate_speech.py\", line 24, in load_ckpt\n",
            "    ckpt = torch.load(ckpt_path, map_location=torch.device('cpu'))\n",
            "  File \"/usr/local/lib/python3.6/dist-packages/torch/serialization.py\", line 419, in load\n",
            "    f = open(f, 'rb')\n",
            "FileNotFoundError: [Errno 2] No such file or directory: '/content/checkpoint_step138000 (1).pth'\n"
          ],
          "name": "stdout"
        }
      ]
    },
    {
      "cell_type": "code",
      "metadata": {
        "id": "RC3VvhRPUWA2",
        "colab_type": "code",
        "outputId": "709c393d-c357-423e-d2da-99d3148efc9a",
        "colab": {
          "base_uri": "https://localhost:8080/",
          "height": 139
        }
      },
      "source": [
        "!pip install -r  used_packages.txt"
      ],
      "execution_count": 0,
      "outputs": [
        {
          "output_type": "stream",
          "text": [
            "Requirement already satisfied: librosa in /usr/local/lib/python3.6/dist-packages (from -r used_packages.txt (line 1)) (0.6.3)\n",
            "Requirement already satisfied: matplotlib in /usr/local/lib/python3.6/dist-packages (from -r used_packages.txt (line 2)) (3.1.2)\n",
            "Requirement already satisfied: numpy in /usr/local/lib/python3.6/dist-packages (from -r used_packages.txt (line 3)) (1.17.4)\n",
            "Requirement already satisfied: scipy in /usr/local/lib/python3.6/dist-packages (from -r used_packages.txt (line 4)) (1.3.3)\n",
            "\u001b[31mERROR: Could not find a version that satisfies the requirement yaml (from -r used_packages.txt (line 5)) (from versions: none)\u001b[0m\n",
            "\u001b[31mERROR: No matching distribution found for yaml (from -r used_packages.txt (line 5))\u001b[0m\n"
          ],
          "name": "stdout"
        }
      ]
    },
    {
      "cell_type": "code",
      "metadata": {
        "id": "RJbbKCfxU5Dk",
        "colab_type": "code",
        "outputId": "d5131e3f-b367-4e50-a358-0b9449ce585c",
        "colab": {
          "base_uri": "https://localhost:8080/",
          "height": 34
        }
      },
      "source": [
        "! pip install pyyaml"
      ],
      "execution_count": 0,
      "outputs": [
        {
          "output_type": "stream",
          "text": [
            "Requirement already satisfied: pyyaml in /usr/local/lib/python3.6/dist-packages (3.13)\n"
          ],
          "name": "stdout"
        }
      ]
    },
    {
      "cell_type": "code",
      "metadata": {
        "id": "ak45LZ_rVNSn",
        "colab_type": "code",
        "colab": {}
      },
      "source": [
        "from concurrent.futures import ProcessPoolExecutor\n",
        "from functools import partial"
      ],
      "execution_count": 0,
      "outputs": []
    },
    {
      "cell_type": "code",
      "metadata": {
        "id": "W23-T9qcdEZe",
        "colab_type": "code",
        "outputId": "86ae66c7-7563-4fea-8a6a-bfe6d283a88a",
        "colab": {
          "base_uri": "https://localhost:8080/",
          "height": 334
        }
      },
      "source": [
        "import numpy as np\n",
        "import os\n",
        "from utils import audio"
      ],
      "execution_count": 0,
      "outputs": [
        {
          "output_type": "error",
          "ename": "ModuleNotFoundError",
          "evalue": "ignored",
          "traceback": [
            "\u001b[0;31m---------------------------------------------------------------------------\u001b[0m",
            "\u001b[0;31mModuleNotFoundError\u001b[0m                       Traceback (most recent call last)",
            "\u001b[0;32m<ipython-input-37-c08e46404857>\u001b[0m in \u001b[0;36m<module>\u001b[0;34m()\u001b[0m\n\u001b[1;32m      1\u001b[0m \u001b[0;32mimport\u001b[0m \u001b[0mnumpy\u001b[0m \u001b[0;32mas\u001b[0m \u001b[0mnp\u001b[0m\u001b[0;34m\u001b[0m\u001b[0;34m\u001b[0m\u001b[0m\n\u001b[1;32m      2\u001b[0m \u001b[0;32mimport\u001b[0m \u001b[0mos\u001b[0m\u001b[0;34m\u001b[0m\u001b[0;34m\u001b[0m\u001b[0m\n\u001b[0;32m----> 3\u001b[0;31m \u001b[0;32mfrom\u001b[0m \u001b[0mutils\u001b[0m \u001b[0;32mimport\u001b[0m \u001b[0maudio\u001b[0m\u001b[0;34m\u001b[0m\u001b[0;34m\u001b[0m\u001b[0m\n\u001b[0m",
            "\u001b[0;31mModuleNotFoundError\u001b[0m: No module named 'utils'",
            "",
            "\u001b[0;31m---------------------------------------------------------------------------\u001b[0;32m\nNOTE: If your import is failing due to a missing package, you can\nmanually install dependencies using either !pip or !apt.\n\nTo view examples of installing some common dependencies, click the\n\"Open Examples\" button below.\n\u001b[0;31m---------------------------------------------------------------------------\u001b[0m\n"
          ]
        }
      ]
    },
    {
      "cell_type": "code",
      "metadata": {
        "id": "hef_Rzn4dJ9U",
        "colab_type": "code",
        "colab": {}
      },
      "source": [
        ""
      ],
      "execution_count": 0,
      "outputs": []
    }
  ]
}